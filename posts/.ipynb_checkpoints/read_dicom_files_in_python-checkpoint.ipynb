{
 "cells": [
  {
   "cell_type": "markdown",
   "metadata": {},
   "source": [
    "## Dataset\n",
    "Dataset is the main object you will work with directly. Dataset is derived from python’s **dict**, so it inherits (and overrides some of) the methods of dict. In other words it is a collection of key:value pairs, where the key value is the DICOM (group,element) tag (as a Tag object, described below), and the value is a DataElement instance (also described below).\n",
    "\n",
    "A dataset could be created directly, but you will usually get one by reading an existing DICOM file (it could be a .dcm or a .img file):<!-- TEASER_END -->\n",
    "\n"
   ]
  },
  {
   "cell_type": "code",
   "execution_count": 1,
   "metadata": {
    "collapsed": false
   },
   "outputs": [],
   "source": [
    "import dicom\n",
    "ds = dicom.read_file(\"1111.img\")"
   ]
  },
  {
   "cell_type": "markdown",
   "metadata": {},
   "source": [
    "You can display the entire dataset by simply printing its string (str or repr) value:"
   ]
  },
  {
   "cell_type": "code",
   "execution_count": 2,
   "metadata": {
    "collapsed": false,
    "scrolled": true
   },
   "outputs": [
    {
     "data": {
      "text/plain": [
       "(0008, 0000) Group Length                        UL: 482\n",
       "(0008, 0005) Specific Character Set              CS: 'ISO_IR 100'\n",
       "(0008, 0008) Image Type                          CS: ['ORIGINAL', 'PRIMARY']\n",
       "(0008, 0012) Instance Creation Date              DA: '20150710'\n",
       "(0008, 0013) Instance Creation Time              TM: '152456'\n",
       "(0008, 0014) Instance Creator UID                UI: 1.2.840.113619.1.131\n",
       "(0008, 0016) SOP Class UID                       UI: Positron Emission Tomography Image Storage\n",
       "(0008, 0018) SOP Instance UID                    UI: 1.2.840.113619.2.131.1611270158.1436534696.972053\n",
       "(0008, 0020) Study Date                          DA: '20150702'\n",
       "(0008, 0021) Series Date                         DA: '20150702'\n",
       "(0008, 0022) Acquisition Date                    DA: '20150702'\n",
       "(0008, 0023) Content Date                        DA: '20150710'\n",
       "(0008, 0030) Study Time                          TM: '090706'\n",
       "(0008, 0031) Series Time                         TM: '091216'\n",
       "(0008, 0032) Acquisition Time                    TM: '094216'\n",
       "(0008, 0033) Content Time                        TM: '152456'\n",
       "(0008, 0050) Accession Number                    SH: '120.116962'\n",
       "(0008, 0060) Modality                            CS: 'PT'\n",
       "(0008, 0070) Manufacturer                        LO: 'GE MEDICAL SYSTEMS'\n",
       "(0008, 0080) Institution Name                    LO: 'FTGM'\n",
       "(0008, 0090) Referring Physician's Name          PN: ''\n",
       "(0008, 1010) Station Name                        SH: 'pet94ct'\n",
       "(0008, 1030) Study Description                   LO: ''\n",
       "(0008, 103e) Series Description                  LO: 'e+1 NEUROTOTEM'\n",
       "..."
      ]
     },
     "execution_count": 2,
     "metadata": {},
     "output_type": "execute_result"
    }
   ],
   "source": [
    "ds"
   ]
  },
  {
   "cell_type": "markdown",
   "metadata": {},
   "source": [
    "## Access header data elements\n",
    "You can access specific data elements by name (DICOM ‘keyword’) or by DICOM tag number:"
   ]
  },
  {
   "cell_type": "code",
   "execution_count": 3,
   "metadata": {
    "collapsed": false
   },
   "outputs": [
    {
     "data": {
      "text/plain": [
       "'Discovery RX'"
      ]
     },
     "execution_count": 3,
     "metadata": {},
     "output_type": "execute_result"
    }
   ],
   "source": [
    "ds.ManufacturerModelName"
   ]
  },
  {
   "cell_type": "code",
   "execution_count": 4,
   "metadata": {
    "collapsed": false
   },
   "outputs": [
    {
     "data": {
      "text/plain": [
       "'Discovery RX'"
      ]
     },
     "execution_count": 4,
     "metadata": {},
     "output_type": "execute_result"
    }
   ],
   "source": [
    "ds[0x0008,0x1090].value"
   ]
  },
  {
   "cell_type": "markdown",
   "metadata": {},
   "source": [
    "In the latter case (using the tag number directly) a DataElement instance is returned, so the .value must be used to get the value.\n",
    "\n",
    "You can also set values by name (DICOM keyword) or tag number:"
   ]
  },
  {
   "cell_type": "code",
   "execution_count": 5,
   "metadata": {
    "collapsed": true
   },
   "outputs": [],
   "source": [
    "ds.PatientID = \"12345\"\n",
    "ds.SeriesNumber = 5\n",
    "ds[0x10,0x10].value = 'Test'"
   ]
  },
  {
   "cell_type": "markdown",
   "metadata": {},
   "source": [
    "The use of names is possible because PyDicom intercepts requests for member variables, and checks if they are in the DICOM dictionary. It translates the keyword to a (group,element) number and returns the corresponding value for that key if it exists.\n",
    "\n",
    "If you don’t remember or know the exact tag name, Dataset provides a handy dir() method, useful during interactive sessions at the python prompt:"
   ]
  },
  {
   "cell_type": "code",
   "execution_count": 6,
   "metadata": {
    "collapsed": false
   },
   "outputs": [
    {
     "data": {
      "text/plain": [
       "['AdditionalPatientHistory',\n",
       " 'ImageOrientationPatient',\n",
       " 'ImagePositionPatient',\n",
       " 'PatientAge',\n",
       " 'PatientBirthDate',\n",
       " 'PatientGantryRelationshipCodeSequence',\n",
       " 'PatientID',\n",
       " 'PatientName',\n",
       " 'PatientOrientationCodeSequence',\n",
       " 'PatientOrientationModifierCodeSequence',\n",
       " 'PatientPosition',\n",
       " 'PatientSex',\n",
       " 'PatientSize',\n",
       " 'PatientWeight']"
      ]
     },
     "execution_count": 6,
     "metadata": {},
     "output_type": "execute_result"
    }
   ],
   "source": [
    "ds.dir(\"pat\")"
   ]
  },
  {
   "cell_type": "markdown",
   "metadata": {},
   "source": [
    "dir will return any DICOM tag names in the dataset that have the specified string anywhere in the name (case insensitive).\n",
    "\n",
    ">**NOTE:**\n",
    ">Calling dir with no string will list all tag names available in the dataset.\n",
    ">You can also see all the names that pydicom knows about by viewing the _dicom_dict.py file. You could >modify that file to add tags that pydicom doesn’t already know about.\n",
    "\n",
    "Under the hood, Dataset stores a DataElement object for each item, but when accessed by name (e.g. ds.PatientName) only the value of that DataElement is returned. If you need the whole DataElement (see the DataElement class discussion), you can use Dataset’s data_element() method or access the item using the tag number:"
   ]
  },
  {
   "cell_type": "code",
   "execution_count": 7,
   "metadata": {
    "collapsed": false
   },
   "outputs": [
    {
     "data": {
      "text/plain": [
       "('PN', 'Test')"
      ]
     },
     "execution_count": 7,
     "metadata": {},
     "output_type": "execute_result"
    }
   ],
   "source": [
    "data_element = ds.data_element(\"PatientsName\")  # or data_element = ds[0x10,0x10]\n",
    "data_element.VR, data_element.value"
   ]
  },
  {
   "cell_type": "markdown",
   "metadata": {},
   "source": [
    "## \"DataElement\" \n",
    "The DataElement class is not usually used directly in user code, but is used extensively by Dataset. DataElement is a simple object which stores the following things:\n",
    "\n",
    "* **tag** – a DICOM tag (as a Tag object)\n",
    "* **VR** – DICOM value representation – various number and string formats, etc\n",
    "* **VM** – value multiplicity. This is 1 for most DICOM tags, but can be multiple, e.g. for coordinates. You do not have to specify this, the DataElement class keeps track of it based on value.\n",
    "* **value** – the actual value. A regular value like a number or string (or list of them), or a Sequence.\n",
    "\n",
    "To check for the existence of a particular tag before using it, use the in keyword:"
   ]
  },
  {
   "cell_type": "code",
   "execution_count": 8,
   "metadata": {
    "collapsed": false
   },
   "outputs": [
    {
     "data": {
      "text/plain": [
       "True"
      ]
     },
     "execution_count": 8,
     "metadata": {},
     "output_type": "execute_result"
    }
   ],
   "source": [
    "\"PatientName\" in ds"
   ]
  },
  {
   "cell_type": "markdown",
   "metadata": {},
   "source": [
    "To remove a data element from the dataset, use del:"
   ]
  },
  {
   "cell_type": "code",
   "execution_count": 9,
   "metadata": {
    "collapsed": false
   },
   "outputs": [
    {
     "data": {
      "text/plain": [
       "False"
      ]
     },
     "execution_count": 9,
     "metadata": {},
     "output_type": "execute_result"
    }
   ],
   "source": [
    "del ds.SoftwareVersions   # or del ds[0x0018, 0x1020]\n",
    "\"SoftwareVersions\" in ds"
   ]
  },
  {
   "cell_type": "markdown",
   "metadata": {},
   "source": [
    "## TAG\n",
    "Using DICOM keywords is the recommended way to access data elements, but you can also use the tag numbers directly. The Tag class is derived from python’s *int*, so in effect, it is just a number with some extra behaviour:\n",
    "\n",
    "* Tag enforces that the DICOM tag fits in the expected 4-byte (group,element)\n",
    "* A Tag instance can be created from an int or from a tuple containing the (group,element) separately\n",
    "* Tag has properties group and element (or elem) to return the group and element portions\n",
    "* The is_private property checks whether the tag represents a private tag (i.e. if group number is odd)."
   ]
  },
  {
   "cell_type": "code",
   "execution_count": 10,
   "metadata": {
    "collapsed": false
   },
   "outputs": [
    {
     "name": "stdout",
     "output_type": "stream",
     "text": [
      "(0010, 0010)\n"
     ]
    },
    {
     "data": {
      "text/plain": [
       "(True, True)"
      ]
     },
     "execution_count": 10,
     "metadata": {},
     "output_type": "execute_result"
    }
   ],
   "source": [
    "from dicom.tag import Tag\n",
    "t1=Tag(0x00100010) # all of these are equivalent\n",
    "t2=Tag(0x10,0x10)\n",
    "t3=Tag((0x10, 0x10))\n",
    "print t1\n",
    "\n",
    "t1==t2, t1==t3\n",
    "(True, True)"
   ]
  },
  {
   "cell_type": "markdown",
   "metadata": {},
   "source": [
    "## Access image data\n",
    "\n",
    "DICOM Sequences are turned into python lists or strings. Items in the sequence are referenced by number, beginning at index 0 as per python convention. \"Sequence\" data type is derived from python’s *list*. The only added functionality is to **make string representations prettier**. Otherwise all the usual methods of list like item selection, append, etc. are available. To work with pixel data, the raw bytes are available through the usual tag:"
   ]
  },
  {
   "cell_type": "code",
   "execution_count": 11,
   "metadata": {
    "collapsed": false
   },
   "outputs": [
    {
     "name": "stdout",
     "output_type": "stream",
     "text": [
      "<type 'str'>\n"
     ]
    }
   ],
   "source": [
    "image_data = ds.PixelData\n",
    "print type(image_data)"
   ]
  },
  {
   "cell_type": "markdown",
   "metadata": {},
   "source": [
    "We then calculate the total dimensions of the NumPy array which are equal to (Number of pixel rows in a slice) x (Number of pixel columns in a slice) x (Number of slices) along the x, y, and z cartesian axes. In this example we are dealing with just a single slice DICOM file, so z=1.\n",
    "\n",
    "Lastly, we use the PixelSpacing and SliceThickness attributes to calculate the spacing between pixels in the three axes. We store the array dimensions in ConstPixelDims and the spacing in ConstPixelSpacing."
   ]
  },
  {
   "cell_type": "code",
   "execution_count": 12,
   "metadata": {
    "collapsed": false
   },
   "outputs": [
    {
     "name": "stdout",
     "output_type": "stream",
     "text": [
      "(128, 128)\n",
      "(3.125, 3.125, 3.27)\n"
     ]
    }
   ],
   "source": [
    "import numpy as np\n",
    "\n",
    "ConstPixelDims = (int(ds.Rows), int(ds.Columns))\n",
    "ConstPixelSpacing = (float(ds.PixelSpacing[0]), float(ds.PixelSpacing[1]), float(ds.SliceThickness))\n",
    "\n",
    "print ConstPixelDims\n",
    "print ConstPixelSpacing"
   ]
  },
  {
   "cell_type": "markdown",
   "metadata": {},
   "source": [
    "Here, we simply use numpy.arange, ConstPixelDims, and ConstPixelSpacing to calculate axes for this array:"
   ]
  },
  {
   "cell_type": "code",
   "execution_count": 13,
   "metadata": {
    "collapsed": true
   },
   "outputs": [],
   "source": [
    "x = np.arange(0.0, (ConstPixelDims[0]+1)*ConstPixelSpacing[0], ConstPixelSpacing[0])\n",
    "y = np.arange(0.0, (ConstPixelDims[1]+1)*ConstPixelSpacing[1], ConstPixelSpacing[1])"
   ]
  },
  {
   "cell_type": "markdown",
   "metadata": {},
   "source": [
    "Next, comes the last pydicom part:"
   ]
  },
  {
   "cell_type": "code",
   "execution_count": 14,
   "metadata": {
    "collapsed": false
   },
   "outputs": [],
   "source": [
    "# The array is sized based on 'ConstPixelDims'\n",
    "ArrayDicom = np.zeros(ConstPixelDims, dtype=ds.pixel_array.dtype)\n",
    "ArrayDicom[:,:] = ds.pixel_array "
   ]
  },
  {
   "cell_type": "code",
   "execution_count": 15,
   "metadata": {
    "collapsed": false
   },
   "outputs": [
    {
     "data": {
      "image/png": "[encoded data removed]",
      "text/plain": [
       "<matplotlib.figure.Figure at 0x7f6660abf990>"
      ]
     },
     "metadata": {},
     "output_type": "display_data"
    }
   ],
   "source": [
    "%matplotlib inline\n",
    "from matplotlib import pyplot, cm\n",
    "\n",
    "pyplot.figure(dpi=300)\n",
    "pyplot.axes().set_aspect('equal')\n",
    "pyplot.set_cmap(pyplot.gray())\n",
    "pyplot.pcolormesh(x, y, np.flipud(ArrayDicom[:, :]))\n",
    "pyplot.show()"
   ]
  }
 ],
 "metadata": {
  "kernelspec": {
   "display_name": "Python 3",
   "language": "python",
   "name": "python3"
  },
  "language_info": {
   "codemirror_mode": {
    "name": "ipython",
    "version": 3
   },
   "file_extension": ".py",
   "mimetype": "text/x-python",
   "name": "python",
   "nbconvert_exporter": "python",
   "pygments_lexer": "ipython3",
   "version": "3.4.2"
  },
  "nikola": {
   "category": "",
   "date": "2016-04-19 12:00:47 UTC+02:00",
   "description": "",
   "link": "",
   "slug": "read_dicom_files_in_python",
   "tags": "dicom, python, medical imaging",
   "title": "How to read DICOM files into Python",
   "type": "text"
  }
 },
 "nbformat": 4,
 "nbformat_minor": 0
}
