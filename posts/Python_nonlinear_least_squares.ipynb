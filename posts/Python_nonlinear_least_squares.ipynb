{
 "cells": [
  {
   "cell_type": "markdown",
   "metadata": {},
   "source": [
    "## The problem\n",
    "\n",
    "Todoay we are going to test a very simple example of nonlinear least square curve fitting using the *scipy.optimize* module."
   ]
  },
  {
   "cell_type": "code",
   "execution_count": 1,
   "metadata": {
    "collapsed": false
   },
   "outputs": [],
   "source": [
    "%matplotlib inline\n",
    "import numpy as np\n",
    "import matplotlib.pyplot as plt\n",
    "from scipy.optimize import curve_fit"
   ]
  },
  {
   "cell_type": "markdown",
   "metadata": {},
   "source": [
    "## Create data\n",
    "\n",
    "Let's assume we have the following points *[xdata, ydata]* and that we want to fit these data with the following model function using nonlinear least squares:\n",
    "\n",
    "$F(p_1,p_2,x) = p_1\\cos(p_2x) + p_2\\sin(p_1x)$\n",
    "\n",
    "For now, we are primarily interested in the following results:\n",
    "\n",
    "* The **fit parameters**\n",
    "* Sum of squared **residuals**<!-- TEASER_END -->\n",
    "\n"
   ]
  },
  {
   "cell_type": "code",
   "execution_count": 10,
   "metadata": {
    "collapsed": false
   },
   "outputs": [
    {
     "data": {
      "image/png": "[encoded data removed]",
      "text/plain": [
       "<matplotlib.figure.Figure at 0x7f90c686d160>"
      ]
     },
     "metadata": {},
     "output_type": "display_data"
    }
   ],
   "source": [
    "xdata = np.array([-2,-1.64,-1.33,-0.7,0,0.45,1.2,1.64,2.32,2.9])\n",
    "ydata = np.array([0.699369,0.700462,0.695354,1.03905,1.97389,2.41143,1.91091,0.919576,-0.730975,-1.42001])\n",
    "\n",
    "# Show data points\n",
    "plt.plot(xdata,ydata,'*')\n",
    "plt.xlabel('xdata')\n",
    "plt.ylabel('ydata');"
   ]
  },
  {
   "cell_type": "markdown",
   "metadata": {},
   "source": [
    "## Define fit function"
   ]
  },
  {
   "cell_type": "code",
   "execution_count": 4,
   "metadata": {
    "collapsed": false
   },
   "outputs": [],
   "source": [
    "def func(x, p1,p2):\n",
    "  return p1*np.cos(p2*x) + p2*np.sin(p1*x)"
   ]
  },
  {
   "cell_type": "markdown",
   "metadata": {},
   "source": [
    "## Calculate and show fit parameters.  \n",
    "\n",
    "Use a starting guess of $p_1=1$ and $p_2=0.2$\n",
    "\n",
    "The outputs of the *curve_fit* function are the following:\n",
    "* **popt** : array of *optimal values* for the parameters so that the sum of the squared error of $f(xdata, *popt) - ydata$ is minimized\n",
    "\n",
    "* **pcov** : 2d array of the estimated covariance of *popt*. The diagonals provide the *variance of the parameter estimate*. To compute one standard deviation errors on the parameters use $perr = np.sqrt(np.diag(pcov))$. If the Jacobian matrix at the solution doesn't have a full rank, then 'lm' method returns a matrix filled with ``np.inf``, on the other hand 'trf'  and 'dogbox' methods use Moore-Penrose pseudoinverse to compute the covariance matrix."
   ]
  },
  {
   "cell_type": "code",
   "execution_count": 16,
   "metadata": {
    "collapsed": false
   },
   "outputs": [
    {
     "name": "stdout",
     "output_type": "stream",
     "text": [
      "Parameter estimation results:\n",
      "p1 =  1.881850994  | p2 =  0.700229857403\n",
      "--------------------------\n",
      "Covariance matrix of the estimate:\n",
      "[[  7.52408290e-04   1.00812823e-04]\n",
      " [  1.00812823e-04   8.37695698e-05]]\n"
     ]
    }
   ],
   "source": [
    "popt, pcov = curve_fit(func, xdata, ydata,p0=(1.0,0.2))\n",
    "\n",
    "print(\"Parameter estimation results:\")\n",
    "print(\"p1 = \",popt[0],\" | p2 = \",popt[1])\n",
    "print(\"--------------------------\")\n",
    "print(\"Covariance matrix of the estimate:\")\n",
    "print(pcov)"
   ]
  },
  {
   "cell_type": "markdown",
   "metadata": {},
   "source": [
    "## Sum of squares of residuals \n",
    "\n",
    "Since it's not given by the *curve_fit* function, we have to compute it *by hand*"
   ]
  },
  {
   "cell_type": "code",
   "execution_count": 18,
   "metadata": {
    "collapsed": false
   },
   "outputs": [
    {
     "name": "stdout",
     "output_type": "stream",
     "text": [
      "Residuals sum of squared:\n",
      "0.0538126964188\n"
     ]
    }
   ],
   "source": [
    "p1 = popt[0]\n",
    "p2 = popt[1]\n",
    "residuals = ydata - func(xdata,p1,p2)\n",
    "fres = sum(residuals**2)\n",
    "\n",
    "print(\"Residuals sum of squares:\")\n",
    "print(fres)"
   ]
  },
  {
   "cell_type": "markdown",
   "metadata": {},
   "source": [
    "Plot fitted curve along with data"
   ]
  },
  {
   "cell_type": "code",
   "execution_count": 8,
   "metadata": {
    "collapsed": false
   },
   "outputs": [
    {
     "data": {
      "image/png": "[encoded data removed]",
      "text/plain": [
       "<matplotlib.figure.Figure at 0x7f90c68d97f0>"
      ]
     },
     "metadata": {},
     "output_type": "display_data"
    }
   ],
   "source": [
    "curvex=np.linspace(-2,3,100)\n",
    "curvey=func(curvex,p1,p2)\n",
    "plt.plot(xdata,ydata,'*')\n",
    "plt.plot(curvex,curvey,'r')\n",
    "plt.xlabel('xdata')\n",
    "plt.ylabel('ydata');"
   ]
  }
 ],
 "metadata": {
  "kernelspec": {
   "display_name": "Python 3",
   "language": "python",
   "name": "python3"
  },
  "language_info": {
   "codemirror_mode": {
    "name": "ipython",
    "version": 3
   },
   "file_extension": ".py",
   "mimetype": "text/x-python",
   "name": "python",
   "nbconvert_exporter": "python",
   "pygments_lexer": "ipython3",
   "version": "3.4.2"
  }
 },
 "nbformat": 4,
 "nbformat_minor": 0
}
