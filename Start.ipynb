{
 "metadata": {
  "name": "",
  "signature": "sha256:59aa2a601dea4869196c46cdd4efec67ead9fba0166ffe2ae3ca7fb85420d179"
 },
 "nbformat": 3,
 "nbformat_minor": 0,
 "worksheets": [
  {
   "cells": [
    {
     "cell_type": "heading",
     "level": 1,
     "metadata": {},
     "source": [
      "Adding a new post"
     ]
    },
    {
     "cell_type": "code",
     "collapsed": false,
     "input": [
      "title = \"Zen themes updated\""
     ],
     "language": "python",
     "metadata": {},
     "outputs": [],
     "prompt_number": 11
    },
    {
     "cell_type": "code",
     "collapsed": false,
     "input": [
      "tags_list = ['python', 'IPython', 'nikola', 'blog', 'themes', 'zen']"
     ],
     "language": "python",
     "metadata": {},
     "outputs": [],
     "prompt_number": 12
    },
    {
     "cell_type": "code",
     "collapsed": false,
     "input": [
      "tags = ', '.join(tags_list)\n",
      "\n",
      "!nikola new_post -f ipynb -t \"{title}\" --tags=\"{tags}\""
     ],
     "language": "python",
     "metadata": {},
     "outputs": [
      {
       "output_type": "stream",
       "stream": "stdout",
       "text": [
        "Creating New Post\r\n",
        "-----------------\r\n",
        "\r\n",
        "Title: Zen themes updated\r\n",
        "Scanning posts."
       ]
      },
      {
       "output_type": "stream",
       "stream": "stdout",
       "text": [
        "."
       ]
      },
      {
       "output_type": "stream",
       "stream": "stdout",
       "text": [
        "....done!\r\n",
        "\u001b[33;01m[2014-05-30T16:03:18Z] WARNING: new_post: This compiler does not support one-file posts.\r\n",
        "\u001b[39;49;00m\u001b[37m[2014-05-30T16:03:18Z] INFO: new_post: Your post's metadata is at: posts/zen-themes-updated.meta\r\n",
        "\u001b[39;49;00m\u001b[37m[2014-05-30T16:03:18Z] INFO: new_post: Your post's text is at: posts/zen-themes-updated.ipynb\r\n",
        "\u001b[39;49;00m"
       ]
      },
      {
       "output_type": "stream",
       "stream": "stdout",
       "text": [
        "\u001b[0m"
       ]
      }
     ],
     "prompt_number": 13
    },
    {
     "cell_type": "code",
     "collapsed": false,
     "input": [
      "base_url = \"http://127.0.0.1:\"\n",
      "port = 8888\n",
      "\n",
      "from nikola import utils\n",
      "notebook = \"/notebooks/posts/\" + utils.slugify(unicode(title)) + \".ipynb\"  \n",
      "\n",
      "url = base_url + str(port) + notebook\n",
      "print url"
     ],
     "language": "python",
     "metadata": {},
     "outputs": [
      {
       "output_type": "stream",
       "stream": "stdout",
       "text": [
        "http://127.0.0.1:8888/notebooks/posts/zen-themes-updated.ipynb\n"
       ]
      }
     ],
     "prompt_number": 14
    },
    {
     "cell_type": "code",
     "collapsed": false,
     "input": [],
     "language": "python",
     "metadata": {},
     "outputs": []
    }
   ],
   "metadata": {}
  }
 ]
}